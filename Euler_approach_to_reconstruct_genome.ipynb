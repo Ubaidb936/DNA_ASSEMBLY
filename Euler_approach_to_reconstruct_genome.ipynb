{
  "nbformat": 4,
  "nbformat_minor": 0,
  "metadata": {
    "colab": {
      "provenance": []
    },
    "kernelspec": {
      "name": "python3",
      "display_name": "Python 3"
    },
    "language_info": {
      "name": "python"
    }
  },
  "cells": [
    {
      "cell_type": "code",
      "execution_count": 4,
      "metadata": {
        "colab": {
          "base_uri": "https://localhost:8080/"
        },
        "id": "td2QPlLDLGGH",
        "outputId": "7f643be1-b95f-4dc2-b0fa-a42b2151467e"
      },
      "outputs": [
        {
          "output_type": "stream",
          "name": "stdout",
          "text": [
            "Original Genome\n",
            "AGCCAATAGCAGATATGCCCATACCCGGCGAGTCCGACGCCCCTAATTGGATCAATCAGTACAAATTCGACAGATGTGGTTTAATGAATGTTCCTCTCTGTTGTGACTGTCCGTACTCTCGTTTCGGGTCGATAAAGCGTTGTCCCCACGCGCCCTGCACCATGAACGCGATTGCTAAAGGCGATGATTCCGCCTCCTATTACAACAGCCGACATTGCGACACAAGGTAGAGCCAATAGCAGATATGCCCATACCCGGCGAGTCCGACGCCCCTAATTGGATCAATCAGTACAAATTCGACAGATGTGGTTTAATGAATGTTCCTCTCTGTTGTGACTGTCCGTACTCTCGTTTCGGGTCGATAAAGCGTTGTCCCCACGCGCCCTGCACCATGAACGCGATTGCTAAAGGCGATGATTCCGCCTCCTATTACAACAGCCGACATTGCGACACAAGGTAGAGCCAATAGCAGATATGCCCATACCCGGCGAGTTAATGGTTATCTGCGAATCCGGAGTGGGTATAGAGGCAGAGAGGTTTTCTATCATCGAGTCCGACGCCCCTAATTGGATCAATCAGTACAAATTCGACAGATGTGGTTTAATGAATGTTCCTCTCTGTTGTGACTGTCCGTACTCTCGTTTCGGGTCGATAAAGCGTTGTCCCCACGCGCCCTGCACCATGAACGCGATTGCTAAAGGCGATGATTCCGCCTCCTATTACAACAGCCGACATTGCGACACAAGGTAGAGCCAATAGCAGATATGCCCATACCCGGCGATGATTCCGCCTCCTATTACAACAGCCGACATTGCGACACAAGGTAGAGCCAATAGCAGATATGCCCATACCCGGCGAGTTAATGGTTATCTGCGAATCCGGAGTGGGTATAGAGGCAGAGAGGTTTTCTATCATCGAGTCCGACGCCCCTAATTGGATCAATCAGTACAAATTCGACAGATGTGGTTTAATGAATGTTCCTCTCTGTTGTGACTGTCCG\n",
            "1000\n"
          ]
        }
      ],
      "source": [
        "import numpy as np\n",
        "import csv\n",
        "\n",
        "def create_overlap_graph(reads, k):\n",
        "    num_reads = len(reads)\n",
        "    overlap_graph = np.zeros((num_reads, num_reads))\n",
        "\n",
        "    for i in range(num_reads):\n",
        "        for j in range(num_reads):\n",
        "            if i != j:\n",
        "                overlap_graph[i, j] = calculate_overlap(reads[i], reads[j], k)\n",
        "\n",
        "    return overlap_graph\n",
        "\n",
        "def calculate_overlap(read1, read2, k):\n",
        "    overlap = 0\n",
        "    for i in range(k, 0, -1):\n",
        "        if read1[-i:] == read2[:i]:\n",
        "            overlap = i\n",
        "            break\n",
        "    return overlap\n",
        "\n",
        "def find_eulerian_path(overlap_graph):\n",
        "    num_reads = overlap_graph.shape[0]\n",
        "    path = []\n",
        "    stack = [0]  # Starting node\n",
        "\n",
        "    while stack:\n",
        "        node = stack[-1]\n",
        "        if overlap_graph[node].any():\n",
        "            next_node = np.argmax(overlap_graph[node])\n",
        "            overlap_graph[node, next_node] = 0\n",
        "            stack.append(next_node)\n",
        "        else:\n",
        "            path.append(stack.pop())\n",
        "\n",
        "    path.reverse()\n",
        "\n",
        "    return path\n",
        "\n",
        "def reconstruct_genome(reads, path, genome_length):\n",
        "    genome = reads[path[0]]\n",
        "\n",
        "    for i in range(1, len(path)):\n",
        "        overlap = calculate_overlap(reads[path[i-1]], reads[path[i]], k)\n",
        "        genome += reads[path[i]][overlap:]\n",
        "\n",
        "    return genome[:genome_length]\n",
        "\n",
        "reads = []\n",
        "with open('reads.fasta', 'r') as file:\n",
        "   reader = csv.reader(file)\n",
        "   i = 0\n",
        "   for row in reader:\n",
        "       if i%2 == 1:\n",
        "         reads.append(row[0])\n",
        "       i += 1 \n",
        "\n",
        "# Length of overlap between reads\n",
        "k = 30  \n",
        "\n",
        "# length of the original genome\n",
        "genome_length = 1000 \n",
        "\n",
        "# Reconstructing the genome using Eulerian path approach\n",
        "overlap_graph = create_overlap_graph(reads, k)\n",
        "path = find_eulerian_path(overlap_graph)\n",
        "reconstructed_genome = reconstruct_genome(reads, path, genome_length)\n",
        "\n",
        "print(\"Original Genome\")\n",
        "print(reconstructed_genome)\n",
        "print(len(reconstructed_genome))"
      ]
    }
  ]
}